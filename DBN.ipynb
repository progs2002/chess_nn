{
 "cells": [
  {
   "cell_type": "code",
   "execution_count": 20,
   "metadata": {},
   "outputs": [],
   "source": [
    "import numpy as np \n",
    "import torch \n",
    "import torch.nn as nn \n",
    "import torch.optim as optim\n",
    "from torch.utils.data import TensorDataset, DataLoader"
   ]
  },
  {
   "cell_type": "code",
   "execution_count": 5,
   "metadata": {},
   "outputs": [],
   "source": [
    "class DBN(nn.Module):\n",
    "    def __init__(self):\n",
    "        super().__init__()\n",
    "        self.fc1 = nn.Linear(773,100)\n",
    "        self.fc2 = nn.Linear(100,100)\n",
    "        self.fc3 = nn.Linear(100,100)\n",
    "    def forward(self, x):\n",
    "        x = torch.relu(self.fc1(x))\n",
    "        x = torch.relu(self.fc2(x))\n",
    "        x = torch.relu(self.fc3(x))\n",
    "        return x"
   ]
  },
  {
   "cell_type": "code",
   "execution_count": 6,
   "metadata": {},
   "outputs": [],
   "source": [
    "model = DBN()"
   ]
  },
  {
   "cell_type": "code",
   "execution_count": 10,
   "metadata": {},
   "outputs": [
    {
     "name": "stdout",
     "output_type": "stream",
     "text": [
      "games parsed 1\n",
      "games parsed 2\n",
      "games parsed 3\n",
      "games parsed 4\n",
      "games parsed 5\n",
      "games parsed 6\n",
      "games parsed 7\n",
      "games parsed 8\n",
      "games parsed 9\n",
      "games parsed 10\n",
      "games parsed 11\n",
      "games parsed 12\n",
      "games parsed 13\n",
      "games parsed 14\n",
      "games parsed 15\n",
      "games parsed 16\n",
      "games parsed 17\n",
      "games parsed 18\n",
      "games parsed 19\n",
      "games parsed 20\n",
      "games parsed 21\n",
      "games parsed 22\n",
      "games parsed 23\n",
      "games parsed 24\n",
      "games parsed 25\n",
      "games parsed 26\n",
      "games parsed 27\n",
      "games parsed 28\n",
      "games parsed 29\n",
      "games parsed 30\n",
      "games parsed 31\n",
      "games parsed 32\n",
      "games parsed 33\n",
      "games parsed 34\n",
      "games parsed 35\n",
      "games parsed 36\n",
      "games parsed 37\n",
      "games parsed 38\n",
      "games parsed 39\n",
      "games parsed 40\n",
      "games parsed 41\n",
      "games parsed 42\n",
      "games parsed 43\n",
      "games parsed 44\n",
      "games parsed 45\n",
      "games parsed 46\n",
      "games parsed 47\n",
      "games parsed 48\n",
      "games parsed 49\n",
      "games parsed 50\n",
      "done parsing 50 games\n",
      "games loaded = 35\n",
      "encoded game 1\n",
      "encoded game 2\n",
      "encoded game 3\n",
      "encoded game 4\n",
      "encoded game 5\n",
      "encoded game 6\n",
      "encoded game 7\n",
      "encoded game 8\n",
      "encoded game 9\n",
      "encoded game 10\n",
      "encoded game 11\n",
      "encoded game 12\n",
      "encoded game 13\n",
      "encoded game 14\n",
      "encoded game 15\n",
      "encoded game 16\n",
      "encoded game 17\n",
      "encoded game 18\n",
      "encoded game 19\n",
      "encoded game 20\n",
      "encoded game 21\n",
      "encoded game 22\n",
      "encoded game 23\n",
      "encoded game 24\n",
      "encoded game 25\n",
      "encoded game 26\n",
      "encoded game 27\n",
      "encoded game 28\n",
      "encoded game 29\n",
      "encoded game 30\n",
      "encoded game 31\n",
      "encoded game 32\n",
      "encoded game 33\n",
      "encoded game 34\n",
      "encoded game 35\n"
     ]
    }
   ],
   "source": [
    "from extractor import get_dataset\n",
    "path = 'dataset/games.pgn'\n",
    "num_games = 50\n",
    "\n",
    "X, Y = get_dataset(path, num_games)"
   ]
  },
  {
   "cell_type": "code",
   "execution_count": 21,
   "metadata": {},
   "outputs": [],
   "source": [
    "train_dataset = TensorDataset(X,Y)\n",
    "train_datalaoder = DataLoader(train_dataset, batch_size=64, shuffle=True)"
   ]
  },
  {
   "cell_type": "code",
   "execution_count": null,
   "metadata": {},
   "outputs": [],
   "source": []
  }
 ],
 "metadata": {
  "kernelspec": {
   "display_name": "Python 3.10.8 64-bit",
   "language": "python",
   "name": "python3"
  },
  "language_info": {
   "codemirror_mode": {
    "name": "ipython",
    "version": 3
   },
   "file_extension": ".py",
   "mimetype": "text/x-python",
   "name": "python",
   "nbconvert_exporter": "python",
   "pygments_lexer": "ipython3",
   "version": "3.10.8"
  },
  "orig_nbformat": 4,
  "vscode": {
   "interpreter": {
    "hash": "e7370f93d1d0cde622a1f8e1c04877d8463912d04d973331ad4851f04de6915a"
   }
  }
 },
 "nbformat": 4,
 "nbformat_minor": 2
}
