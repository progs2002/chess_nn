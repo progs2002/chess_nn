{
 "cells": [
  {
   "cell_type": "code",
   "execution_count": 1,
   "metadata": {},
   "outputs": [],
   "source": [
    "import numpy as np \n",
    "import torch \n",
    "import torch.nn as nn \n",
    "import torch.optim as optim\n",
    "from torch.utils.data import TensorDataset, DataLoader\n",
    "from matplotlib import pyplot as plt"
   ]
  },
  {
   "cell_type": "code",
   "execution_count": 2,
   "metadata": {},
   "outputs": [],
   "source": [
    "%%capture\n",
    "\n",
    "from extractor import get_dataset\n",
    "\n",
    "path = 'dataset/games.pgn'\n",
    "num_games = 2000\n",
    "device ='cuda'\n",
    "\n",
    "X, Y = get_dataset(path, num_games=num_games, device=device)"
   ]
  },
  {
   "cell_type": "code",
   "execution_count": 3,
   "metadata": {},
   "outputs": [
    {
     "data": {
      "text/plain": [
       "(torch.Size([156961, 773]), torch.Size([156961]))"
      ]
     },
     "execution_count": 3,
     "metadata": {},
     "output_type": "execute_result"
    }
   ],
   "source": [
    "X.shape, Y.shape"
   ]
  },
  {
   "cell_type": "code",
   "execution_count": 4,
   "metadata": {},
   "outputs": [],
   "source": [
    "def view_matrix(x):\n",
    "    img = torch.zeros((784))\n",
    "    img[:x.shape[0]] = x.to(device).detach().clone()\n",
    "    plt.imshow(img.view(28,28),cmap='gray')"
   ]
  },
  {
   "cell_type": "code",
   "execution_count": 5,
   "metadata": {},
   "outputs": [
    {
     "data": {
      "image/png": "[encoded data removed]",
      "text/plain": [
       "<Figure size 432x288 with 1 Axes>"
      ]
     },
     "metadata": {
      "needs_background": "light"
     },
     "output_type": "display_data"
    }
   ],
   "source": [
    "view_matrix(X[69])"
   ]
  },
  {
   "cell_type": "code",
   "execution_count": 6,
   "metadata": {},
   "outputs": [],
   "source": [
    "class Autoencoder(nn.Module):\n",
    "    def __init__(self):\n",
    "        super().__init__()\n",
    "        \n",
    "        self.encoder = nn.Sequential(\n",
    "            nn.Linear(773,100),\n",
    "            nn.ReLU(),\n",
    "            nn.Linear(100,100),\n",
    "            nn.ReLU(),\n",
    "            nn.Linear(100,100)\n",
    "        )\n",
    "\n",
    "        self.decoder = nn.Sequential(\n",
    "            nn.Linear(100,100),\n",
    "            nn.ReLU(),\n",
    "            nn.Linear(100,100),\n",
    "            nn.ReLU(),\n",
    "            nn.Linear(100,773),\n",
    "            nn.Sigmoid()\n",
    "        )\n",
    "    \n",
    "    def forward(self, x):\n",
    "        x = self.encoder(x)\n",
    "        return self.decoder(x)\n"
   ]
  },
  {
   "cell_type": "code",
   "execution_count": 7,
   "metadata": {},
   "outputs": [],
   "source": [
    "dataset = TensorDataset(X,Y)\n",
    "loader = DataLoader(dataset, batch_size=64, shuffle=True)"
   ]
  },
  {
   "cell_type": "code",
   "execution_count": 8,
   "metadata": {},
   "outputs": [],
   "source": [
    "model = Autoencoder().to(device)\n",
    "criterion = nn.MSELoss()\n",
    "optimizer = optim.SGD(model.parameters(),lr=0.1)"
   ]
  },
  {
   "cell_type": "code",
   "execution_count": 9,
   "metadata": {},
   "outputs": [
    {
     "data": {
      "text/plain": [
       "torch.Size([1, 773])"
      ]
     },
     "execution_count": 9,
     "metadata": {},
     "output_type": "execute_result"
    }
   ],
   "source": [
    "track = X[0].view(1,-1).detach()\n",
    "track.shape"
   ]
  },
  {
   "cell_type": "code",
   "execution_count": 10,
   "metadata": {},
   "outputs": [
    {
     "name": "stdout",
     "output_type": "stream",
     "text": [
      "[1,   200] loss: 0.248\n",
      "[1,   400] loss: 0.246\n",
      "[1,   600] loss: 0.244\n",
      "[1,   800] loss: 0.241\n",
      "[1,  1000] loss: 0.238\n",
      "[1,  1200] loss: 0.234\n",
      "[1,  1400] loss: 0.228\n",
      "[1,  1600] loss: 0.217\n",
      "[1,  1800] loss: 0.191\n",
      "[1,  2000] loss: 0.107\n",
      "[1,  2200] loss: 0.033\n",
      "[1,  2400] loss: 0.026\n",
      "[2,   200] loss: 0.025\n",
      "[2,   400] loss: 0.025\n",
      "[2,   600] loss: 0.024\n",
      "[2,   800] loss: 0.024\n",
      "[2,  1000] loss: 0.024\n",
      "[2,  1200] loss: 0.024\n",
      "[2,  1400] loss: 0.024\n",
      "[2,  1600] loss: 0.024\n",
      "[2,  1800] loss: 0.024\n",
      "[2,  2000] loss: 0.024\n",
      "[2,  2200] loss: 0.024\n",
      "[2,  2400] loss: 0.024\n",
      "[3,   200] loss: 0.024\n",
      "[3,   400] loss: 0.024\n",
      "[3,   600] loss: 0.023\n",
      "[3,   800] loss: 0.023\n",
      "[3,  1000] loss: 0.023\n",
      "[3,  1200] loss: 0.023\n",
      "[3,  1400] loss: 0.023\n",
      "[3,  1600] loss: 0.023\n",
      "[3,  1800] loss: 0.023\n",
      "[3,  2000] loss: 0.023\n",
      "[3,  2200] loss: 0.023\n",
      "[3,  2400] loss: 0.023\n",
      "[4,   200] loss: 0.023\n",
      "[4,   400] loss: 0.023\n",
      "[4,   600] loss: 0.023\n",
      "[4,   800] loss: 0.023\n",
      "[4,  1000] loss: 0.023\n",
      "[4,  1200] loss: 0.023\n",
      "[4,  1400] loss: 0.023\n",
      "[4,  1600] loss: 0.023\n",
      "[4,  1800] loss: 0.023\n",
      "[4,  2000] loss: 0.023\n",
      "[4,  2200] loss: 0.023\n",
      "[4,  2400] loss: 0.023\n",
      "[5,   200] loss: 0.023\n",
      "[5,   400] loss: 0.023\n",
      "[5,   600] loss: 0.023\n",
      "[5,   800] loss: 0.023\n",
      "[5,  1000] loss: 0.023\n",
      "[5,  1200] loss: 0.023\n",
      "[5,  1400] loss: 0.022\n",
      "[5,  1600] loss: 0.022\n",
      "[5,  1800] loss: 0.023\n",
      "[5,  2000] loss: 0.022\n",
      "[5,  2200] loss: 0.022\n",
      "[5,  2400] loss: 0.022\n",
      "[6,   200] loss: 0.022\n",
      "[6,   400] loss: 0.022\n",
      "[6,   600] loss: 0.022\n",
      "[6,   800] loss: 0.022\n",
      "[6,  1000] loss: 0.022\n",
      "[6,  1200] loss: 0.022\n",
      "[6,  1400] loss: 0.022\n",
      "[6,  1600] loss: 0.022\n",
      "[6,  1800] loss: 0.022\n",
      "[6,  2000] loss: 0.022\n",
      "[6,  2200] loss: 0.022\n",
      "[6,  2400] loss: 0.022\n",
      "[7,   200] loss: 0.022\n",
      "[7,   400] loss: 0.022\n",
      "[7,   600] loss: 0.022\n",
      "[7,   800] loss: 0.022\n",
      "[7,  1000] loss: 0.022\n",
      "[7,  1200] loss: 0.022\n",
      "[7,  1400] loss: 0.022\n",
      "[7,  1600] loss: 0.022\n",
      "[7,  1800] loss: 0.022\n",
      "[7,  2000] loss: 0.022\n",
      "[7,  2200] loss: 0.022\n",
      "[7,  2400] loss: 0.022\n",
      "[8,   200] loss: 0.022\n",
      "[8,   400] loss: 0.022\n",
      "[8,   600] loss: 0.022\n",
      "[8,   800] loss: 0.022\n",
      "[8,  1000] loss: 0.022\n",
      "[8,  1200] loss: 0.022\n",
      "[8,  1400] loss: 0.022\n",
      "[8,  1600] loss: 0.022\n",
      "[8,  1800] loss: 0.022\n",
      "[8,  2000] loss: 0.022\n",
      "[8,  2200] loss: 0.022\n",
      "[8,  2400] loss: 0.022\n",
      "[9,   200] loss: 0.022\n",
      "[9,   400] loss: 0.022\n",
      "[9,   600] loss: 0.022\n",
      "[9,   800] loss: 0.022\n",
      "[9,  1000] loss: 0.022\n",
      "[9,  1200] loss: 0.022\n",
      "[9,  1400] loss: 0.022\n",
      "[9,  1600] loss: 0.022\n",
      "[9,  1800] loss: 0.022\n",
      "[9,  2000] loss: 0.022\n",
      "[9,  2200] loss: 0.022\n",
      "[9,  2400] loss: 0.022\n",
      "[10,   200] loss: 0.022\n",
      "[10,   400] loss: 0.022\n",
      "[10,   600] loss: 0.022\n",
      "[10,   800] loss: 0.022\n",
      "[10,  1000] loss: 0.022\n",
      "[10,  1200] loss: 0.022\n",
      "[10,  1400] loss: 0.022\n",
      "[10,  1600] loss: 0.022\n",
      "[10,  1800] loss: 0.022\n",
      "[10,  2000] loss: 0.022\n",
      "[10,  2200] loss: 0.022\n",
      "[10,  2400] loss: 0.022\n",
      "finished_training\n"
     ]
    }
   ],
   "source": [
    "epochs = 10\n",
    "outputs = []\n",
    "losses = []\n",
    "\n",
    "for epoch in range(epochs):\n",
    "    running_loss = 0\n",
    "    for batch, (x, _) in enumerate(loader):\n",
    "        out = model(x)\n",
    "        loss = criterion(out,x)\n",
    "        optimizer.zero_grad()\n",
    "        loss.backward()\n",
    "        optimizer.step()\n",
    "\n",
    "        running_loss += loss.item()\n",
    "\n",
    "        if batch % (num_games//10) == (num_games//10) - 1:\n",
    "            print(f'[{epoch + 1}, {batch + 1:5d}] loss: {running_loss / (num_games//10):.3f}')\n",
    "            running_loss = 0.0\n",
    "    losses.append(running_loss)\n",
    "    outputs.append(model(track))\n",
    "print('finished_training')\n"
   ]
  },
  {
   "cell_type": "code",
   "execution_count": 11,
   "metadata": {},
   "outputs": [
    {
     "data": {
      "text/plain": [
       "(torch.Size([1, 773]), torch.Size([1, 773]))"
      ]
     },
     "execution_count": 11,
     "metadata": {},
     "output_type": "execute_result"
    }
   ],
   "source": [
    "outputs[0].shape, track.shape"
   ]
  },
  {
   "cell_type": "code",
   "execution_count": 12,
   "metadata": {},
   "outputs": [
    {
     "data": {
      "image/png": "[encoded data removed]",
      "text/plain": [
       "<Figure size 432x288 with 1 Axes>"
      ]
     },
     "metadata": {
      "needs_background": "light"
     },
     "output_type": "display_data"
    }
   ],
   "source": [
    "view_matrix(track[0])"
   ]
  },
  {
   "cell_type": "code",
   "execution_count": 13,
   "metadata": {},
   "outputs": [
    {
     "data": {
      "image/png": "[encoded data removed]",
      "text/plain": [
       "<Figure size 432x288 with 1 Axes>"
      ]
     },
     "metadata": {
      "needs_background": "light"
     },
     "output_type": "display_data"
    }
   ],
   "source": [
    "view_matrix(outputs[1][0])"
   ]
  },
  {
   "cell_type": "code",
   "execution_count": 14,
   "metadata": {},
   "outputs": [],
   "source": [
    "e1 = model.encoder\n",
    "e2 = model.encoder"
   ]
  },
  {
   "cell_type": "code",
   "execution_count": 15,
   "metadata": {},
   "outputs": [
    {
     "data": {
      "text/plain": [
       "torch.Size([200])"
      ]
     },
     "execution_count": 15,
     "metadata": {},
     "output_type": "execute_result"
    }
   ],
   "source": [
    "a, b = X[0], X[1]\n",
    "a, b = e1(a), e2(b)\n",
    "r = torch.cat((a,b),dim=0)\n",
    "r.shape"
   ]
  },
  {
   "cell_type": "code",
   "execution_count": 16,
   "metadata": {},
   "outputs": [],
   "source": [
    "class DeepChess(nn.Module):\n",
    "    def __init__(self):\n",
    "        super().__init__()\n",
    "        self.e = model.encoder\n",
    "        self.fc1 = nn.Linear(200,100)\n",
    "        self.fc2 = nn.Linear(100,100)\n",
    "        self.fc3 = nn.Linear(100,2)\n",
    "\n",
    "    def forward(self, x):\n",
    "        x = torch.relu(self.fc1(x))\n",
    "        x = torch.relu(self.fc2(x))\n",
    "        x = self.fc3(x)\n",
    "        return x\n",
    "\n",
    "net = DeepChess().to(device) "
   ]
  },
  {
   "cell_type": "code",
   "execution_count": 17,
   "metadata": {},
   "outputs": [],
   "source": [
    "loader1 = DataLoader(dataset,batch_size=64,shuffle=True)\n",
    "loader2 = DataLoader(dataset,batch_size=64,shuffle=True)"
   ]
  },
  {
   "cell_type": "code",
   "execution_count": 18,
   "metadata": {},
   "outputs": [],
   "source": [
    "criterion = nn.CrossEntropyLoss()\n",
    "optimizer = optim.SGD(net.parameters(),lr=0.1)"
   ]
  },
  {
   "cell_type": "code",
   "execution_count": 19,
   "metadata": {},
   "outputs": [
    {
     "data": {
      "text/plain": [
       "torch.Size([64, 200])"
      ]
     },
     "execution_count": 19,
     "metadata": {},
     "output_type": "execute_result"
    }
   ],
   "source": [
    "a = torch.rand((64,773),device=device)\n",
    "b = torch.rand((64,773),device=device)\n",
    "a = model.encoder(a)\n",
    "b = model.encoder(b)\n",
    "c = torch.cat((a,b),-1)\n",
    "c.shape"
   ]
  },
  {
   "cell_type": "code",
   "execution_count": 20,
   "metadata": {},
   "outputs": [
    {
     "data": {
      "text/plain": [
       "tensor([[ 0.0134,  0.0292, -0.0316,  ...,  0.0016,  0.0216, -0.0324],\n",
       "        [-0.0216,  0.0085,  0.0128,  ...,  0.0234, -0.0255,  0.0167],\n",
       "        [-0.0248, -0.0063, -0.0276,  ..., -0.0254, -0.0251, -0.0234],\n",
       "        ...,\n",
       "        [-0.0181,  0.0002,  0.0182,  ...,  0.0224, -0.0209, -0.0074],\n",
       "        [-0.0082, -0.0017,  0.0135,  ..., -0.0296, -0.0184,  0.0207],\n",
       "        [-0.0341,  0.0236, -0.0180,  ...,  0.0160, -0.0205, -0.0197]],\n",
       "       device='cuda:0')"
      ]
     },
     "execution_count": 20,
     "metadata": {},
     "output_type": "execute_result"
    }
   ],
   "source": [
    "a = net.e[0].weight.detach().clone()\n",
    "a"
   ]
  },
  {
   "cell_type": "code",
   "execution_count": 21,
   "metadata": {},
   "outputs": [
    {
     "name": "stderr",
     "output_type": "stream",
     "text": [
      "/tmp/ipykernel_10101/1446901922.py:14: UserWarning: To copy construct from a tensor, it is recommended to use sourceTensor.clone().detach() or sourceTensor.clone().detach().requires_grad_(True), rather than torch.tensor(sourceTensor).\n",
      "  target = torch.tensor(torch.stack((y1,y2),dim=1))\n"
     ]
    },
    {
     "name": "stdout",
     "output_type": "stream",
     "text": [
      "[1,   200] loss: 0.739\n",
      "[1,   400] loss: 0.749\n",
      "[1,   600] loss: 0.748\n",
      "[1,   800] loss: 0.744\n",
      "[1,  1000] loss: 0.743\n",
      "[1,  1200] loss: 0.741\n",
      "[1,  1400] loss: 0.748\n",
      "[1,  1600] loss: 0.747\n",
      "[1,  1800] loss: 0.742\n",
      "[1,  2000] loss: 0.746\n",
      "[1,  2200] loss: 0.741\n",
      "[1,  2400] loss: 0.741\n",
      "[2,   200] loss: 0.743\n",
      "[2,   400] loss: 0.739\n",
      "[2,   600] loss: 0.733\n",
      "[2,   800] loss: 0.729\n",
      "[2,  1000] loss: 0.716\n",
      "[2,  1200] loss: 0.712\n",
      "[2,  1400] loss: 0.689\n",
      "[2,  1600] loss: 0.668\n",
      "[2,  1800] loss: 0.660\n",
      "[2,  2000] loss: 0.652\n",
      "[2,  2200] loss: 0.635\n",
      "[2,  2400] loss: 0.619\n",
      "[3,   200] loss: 0.600\n",
      "[3,   400] loss: 0.587\n",
      "[3,   600] loss: 0.564\n",
      "[3,   800] loss: 0.556\n",
      "[3,  1000] loss: 0.562\n",
      "[3,  1200] loss: 0.535\n",
      "[3,  1400] loss: 0.537\n",
      "[3,  1600] loss: 0.527\n",
      "[3,  1800] loss: 0.525\n",
      "[3,  2000] loss: 0.521\n",
      "[3,  2200] loss: 0.517\n",
      "[3,  2400] loss: 0.514\n",
      "[4,   200] loss: 0.516\n",
      "[4,   400] loss: 0.500\n",
      "[4,   600] loss: 0.506\n",
      "[4,   800] loss: 0.495\n",
      "[4,  1000] loss: 0.494\n",
      "[4,  1200] loss: 0.486\n",
      "[4,  1400] loss: 0.496\n",
      "[4,  1600] loss: 0.494\n",
      "[4,  1800] loss: 0.495\n",
      "[4,  2000] loss: 0.498\n",
      "[4,  2200] loss: 0.488\n",
      "[4,  2400] loss: 0.483\n",
      "[5,   200] loss: 0.488\n",
      "[5,   400] loss: 0.480\n",
      "[5,   600] loss: 0.476\n",
      "[5,   800] loss: 0.479\n",
      "[5,  1000] loss: 0.474\n",
      "[5,  1200] loss: 0.489\n",
      "[5,  1400] loss: 0.480\n",
      "[5,  1600] loss: 0.471\n",
      "[5,  1800] loss: 0.467\n",
      "[5,  2000] loss: 0.473\n",
      "[5,  2200] loss: 0.465\n",
      "[5,  2400] loss: 0.477\n",
      "[6,   200] loss: 0.469\n",
      "[6,   400] loss: 0.479\n",
      "[6,   600] loss: 0.469\n",
      "[6,   800] loss: 0.467\n",
      "[6,  1000] loss: 0.469\n",
      "[6,  1200] loss: 0.472\n",
      "[6,  1400] loss: 0.469\n",
      "[6,  1600] loss: 0.474\n",
      "[6,  1800] loss: 0.465\n",
      "[6,  2000] loss: 0.469\n",
      "[6,  2200] loss: 0.463\n",
      "[6,  2400] loss: 0.474\n",
      "[7,   200] loss: 0.479\n",
      "[7,   400] loss: 0.464\n",
      "[7,   600] loss: 0.466\n",
      "[7,   800] loss: 0.470\n",
      "[7,  1000] loss: 0.459\n",
      "[7,  1200] loss: 0.463\n",
      "[7,  1400] loss: 0.455\n",
      "[7,  1600] loss: 0.459\n",
      "[7,  1800] loss: 0.466\n",
      "[7,  2000] loss: 0.459\n",
      "[7,  2200] loss: 0.466\n",
      "[7,  2400] loss: 0.453\n",
      "[8,   200] loss: 0.456\n",
      "[8,   400] loss: 0.442\n",
      "[8,   600] loss: 0.465\n",
      "[8,   800] loss: 0.447\n",
      "[8,  1000] loss: 0.460\n",
      "[8,  1200] loss: 0.454\n",
      "[8,  1400] loss: 0.459\n",
      "[8,  1600] loss: 0.457\n",
      "[8,  1800] loss: 0.462\n",
      "[8,  2000] loss: 0.470\n",
      "[8,  2200] loss: 0.453\n",
      "[8,  2400] loss: 0.456\n",
      "[9,   200] loss: 0.451\n",
      "[9,   400] loss: 0.444\n",
      "[9,   600] loss: 0.455\n",
      "[9,   800] loss: 0.462\n",
      "[9,  1000] loss: 0.448\n",
      "[9,  1200] loss: 0.462\n",
      "[9,  1400] loss: 0.447\n",
      "[9,  1600] loss: 0.450\n",
      "[9,  1800] loss: 0.458\n",
      "[9,  2000] loss: 0.460\n",
      "[9,  2200] loss: 0.452\n",
      "[9,  2400] loss: 0.451\n",
      "[10,   200] loss: 0.447\n",
      "[10,   400] loss: 0.456\n",
      "[10,   600] loss: 0.440\n",
      "[10,   800] loss: 0.450\n",
      "[10,  1000] loss: 0.450\n",
      "[10,  1200] loss: 0.453\n",
      "[10,  1400] loss: 0.454\n",
      "[10,  1600] loss: 0.452\n",
      "[10,  1800] loss: 0.464\n",
      "[10,  2000] loss: 0.462\n",
      "[10,  2200] loss: 0.456\n",
      "[10,  2400] loss: 0.449\n",
      "[11,   200] loss: 0.460\n",
      "[11,   400] loss: 0.443\n",
      "[11,   600] loss: 0.462\n",
      "[11,   800] loss: 0.454\n",
      "[11,  1000] loss: 0.448\n",
      "[11,  1200] loss: 0.464\n",
      "[11,  1400] loss: 0.447\n",
      "[11,  1600] loss: 0.458\n",
      "[11,  1800] loss: 0.450\n",
      "[11,  2000] loss: 0.448\n",
      "[11,  2200] loss: 0.449\n",
      "[11,  2400] loss: 0.445\n",
      "[12,   200] loss: 0.449\n",
      "[12,   400] loss: 0.446\n",
      "[12,   600] loss: 0.447\n",
      "[12,   800] loss: 0.461\n",
      "[12,  1000] loss: 0.453\n",
      "[12,  1200] loss: 0.450\n",
      "[12,  1400] loss: 0.453\n",
      "[12,  1600] loss: 0.454\n",
      "[12,  1800] loss: 0.445\n",
      "[12,  2000] loss: 0.448\n",
      "[12,  2200] loss: 0.454\n",
      "[12,  2400] loss: 0.455\n",
      "[13,   200] loss: 0.438\n",
      "[13,   400] loss: 0.450\n",
      "[13,   600] loss: 0.458\n",
      "[13,   800] loss: 0.448\n",
      "[13,  1000] loss: 0.457\n",
      "[13,  1200] loss: 0.449\n",
      "[13,  1400] loss: 0.447\n",
      "[13,  1600] loss: 0.446\n",
      "[13,  1800] loss: 0.450\n",
      "[13,  2000] loss: 0.452\n",
      "[13,  2200] loss: 0.441\n",
      "[13,  2400] loss: 0.441\n",
      "[14,   200] loss: 0.447\n",
      "[14,   400] loss: 0.444\n",
      "[14,   600] loss: 0.448\n",
      "[14,   800] loss: 0.445\n",
      "[14,  1000] loss: 0.445\n",
      "[14,  1200] loss: 0.444\n",
      "[14,  1400] loss: 0.442\n",
      "[14,  1600] loss: 0.452\n",
      "[14,  1800] loss: 0.451\n",
      "[14,  2000] loss: 0.458\n",
      "[14,  2200] loss: 0.444\n",
      "[14,  2400] loss: 0.447\n",
      "[15,   200] loss: 0.437\n",
      "[15,   400] loss: 0.436\n",
      "[15,   600] loss: 0.456\n",
      "[15,   800] loss: 0.443\n",
      "[15,  1000] loss: 0.437\n",
      "[15,  1200] loss: 0.454\n",
      "[15,  1400] loss: 0.444\n",
      "[15,  1600] loss: 0.440\n",
      "[15,  1800] loss: 0.457\n",
      "[15,  2000] loss: 0.454\n",
      "[15,  2200] loss: 0.445\n",
      "[15,  2400] loss: 0.432\n",
      "[16,   200] loss: 0.445\n",
      "[16,   400] loss: 0.447\n",
      "[16,   600] loss: 0.446\n",
      "[16,   800] loss: 0.455\n",
      "[16,  1000] loss: 0.446\n",
      "[16,  1200] loss: 0.445\n",
      "[16,  1400] loss: 0.445\n",
      "[16,  1600] loss: 0.446\n",
      "[16,  1800] loss: 0.448\n",
      "[16,  2000] loss: 0.447\n",
      "[16,  2200] loss: 0.448\n",
      "[16,  2400] loss: 0.445\n",
      "[17,   200] loss: 0.436\n",
      "[17,   400] loss: 0.450\n",
      "[17,   600] loss: 0.452\n",
      "[17,   800] loss: 0.441\n",
      "[17,  1000] loss: 0.447\n",
      "[17,  1200] loss: 0.445\n",
      "[17,  1400] loss: 0.450\n",
      "[17,  1600] loss: 0.449\n",
      "[17,  1800] loss: 0.446\n",
      "[17,  2000] loss: 0.443\n",
      "[17,  2200] loss: 0.452\n",
      "[17,  2400] loss: 0.443\n",
      "[18,   200] loss: 0.448\n",
      "[18,   400] loss: 0.453\n",
      "[18,   600] loss: 0.436\n",
      "[18,   800] loss: 0.443\n",
      "[18,  1000] loss: 0.441\n",
      "[18,  1200] loss: 0.443\n",
      "[18,  1400] loss: 0.452\n",
      "[18,  1600] loss: 0.443\n",
      "[18,  1800] loss: 0.435\n",
      "[18,  2000] loss: 0.452\n",
      "[18,  2200] loss: 0.450\n",
      "[18,  2400] loss: 0.444\n",
      "[19,   200] loss: 0.443\n",
      "[19,   400] loss: 0.445\n",
      "[19,   600] loss: 0.433\n",
      "[19,   800] loss: 0.452\n",
      "[19,  1000] loss: 0.444\n",
      "[19,  1200] loss: 0.442\n",
      "[19,  1400] loss: 0.446\n",
      "[19,  1600] loss: 0.442\n",
      "[19,  1800] loss: 0.445\n",
      "[19,  2000] loss: 0.443\n",
      "[19,  2200] loss: 0.446\n",
      "[19,  2400] loss: 0.453\n",
      "[20,   200] loss: 0.447\n",
      "[20,   400] loss: 0.443\n",
      "[20,   600] loss: 0.444\n",
      "[20,   800] loss: 0.441\n",
      "[20,  1000] loss: 0.435\n",
      "[20,  1200] loss: 0.448\n",
      "[20,  1400] loss: 0.438\n",
      "[20,  1600] loss: 0.434\n",
      "[20,  1800] loss: 0.441\n",
      "[20,  2000] loss: 0.447\n",
      "[20,  2200] loss: 0.441\n",
      "[20,  2400] loss: 0.449\n",
      "finished_training\n"
     ]
    }
   ],
   "source": [
    "epochs = 20\n",
    "losses = []\n",
    "\n",
    "for epoch in range(epochs):\n",
    "    running_loss = 0\n",
    "    for batch, (data1, data2) in enumerate(zip(loader1,loader2)):\n",
    "        x1, y1 = data1\n",
    "        x2, y2 = data2\n",
    "        x1 = net.e(x1)\n",
    "        x2 = net.e(x2)\n",
    "        x = torch.cat((x1,x2),-1) \n",
    "        pred = net(x)\n",
    "        \n",
    "        target = torch.tensor(torch.stack((y1,y2),dim=1))\n",
    "        loss = criterion(pred, target)\n",
    "        optimizer.zero_grad()\n",
    "        loss.backward()\n",
    "        optimizer.step()\n",
    "\n",
    "        running_loss += loss.item()\n",
    "        \n",
    "        if batch % (num_games//10) == (num_games//10) - 1:\n",
    "            print(f'[{epoch + 1}, {batch + 1:5d}] loss: {running_loss / (num_games//10):.3f}')\n",
    "            running_loss = 0.0\n",
    "    \n",
    "    losses.append(running_loss)\n",
    "\n",
    "print('finished_training')\n"
   ]
  }
 ],
 "metadata": {
  "kernelspec": {
   "display_name": "Python 3.10.8 64-bit",
   "language": "python",
   "name": "python3"
  },
  "language_info": {
   "codemirror_mode": {
    "name": "ipython",
    "version": 3
   },
   "file_extension": ".py",
   "mimetype": "text/x-python",
   "name": "python",
   "nbconvert_exporter": "python",
   "pygments_lexer": "ipython3",
   "version": "3.10.8"
  },
  "orig_nbformat": 4,
  "vscode": {
   "interpreter": {
    "hash": "e7370f93d1d0cde622a1f8e1c04877d8463912d04d973331ad4851f04de6915a"
   }
  }
 },
 "nbformat": 4,
 "nbformat_minor": 2
}
