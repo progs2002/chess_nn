{
 "cells": [
  {
   "cell_type": "code",
   "execution_count": 3,
   "metadata": {},
   "outputs": [],
   "source": [
    "import numpy as np \n",
    "import torch \n",
    "import torch.nn as nn \n",
    "import torch.optim as optim\n",
    "from torch.utils.data import TensorDataset, DataLoader\n",
    "from matplotlib import pyplot as plt"
   ]
  },
  {
   "cell_type": "code",
   "execution_count": 4,
   "metadata": {},
   "outputs": [],
   "source": [
    "%%capture\n",
    "\n",
    "from extractor import get_dataset\n",
    "\n",
    "path = 'dataset/games.pgn'\n",
    "num_games = 500\n",
    "device ='cuda'\n",
    "\n",
    "X, Y = get_dataset(path, num_games=num_games, device=device)"
   ]
  },
  {
   "cell_type": "code",
   "execution_count": 5,
   "metadata": {},
   "outputs": [
    {
     "data": {
      "text/plain": [
       "(torch.Size([43408, 773]), torch.Size([43408]))"
      ]
     },
     "execution_count": 5,
     "metadata": {},
     "output_type": "execute_result"
    }
   ],
   "source": [
    "X.shape, Y.shape"
   ]
  },
  {
   "cell_type": "code",
   "execution_count": 6,
   "metadata": {},
   "outputs": [],
   "source": [
    "def view_matrix(x):\n",
    "    img = torch.zeros((784))\n",
    "    img[:x.shape[0]] = x.to(device).detach().clone()\n",
    "    plt.imshow(img.view(28,28),cmap='gray')"
   ]
  },
  {
   "cell_type": "code",
   "execution_count": 7,
   "metadata": {},
   "outputs": [
    {
     "data": {
      "image/png": "[encoded data removed]",
      "text/plain": [
       "<Figure size 432x288 with 1 Axes>"
      ]
     },
     "metadata": {
      "needs_background": "light"
     },
     "output_type": "display_data"
    }
   ],
   "source": [
    "view_matrix(X[69])"
   ]
  },
  {
   "cell_type": "code",
   "execution_count": 8,
   "metadata": {},
   "outputs": [],
   "source": [
    "class Autoencoder(nn.Module):\n",
    "    def __init__(self):\n",
    "        super().__init__()\n",
    "        \n",
    "        self.encoder = nn.Sequential(\n",
    "            nn.Linear(773,100),\n",
    "            nn.ReLU(),\n",
    "            nn.Linear(100,100),\n",
    "            nn.ReLU(),\n",
    "            nn.Linear(100,100)\n",
    "        )\n",
    "\n",
    "        self.decoder = nn.Sequential(\n",
    "            nn.Linear(100,100),\n",
    "            nn.ReLU(),\n",
    "            nn.Linear(100,100),\n",
    "            nn.ReLU(),\n",
    "            nn.Linear(100,773),\n",
    "            nn.Sigmoid()\n",
    "        )\n",
    "    \n",
    "    def forward(self, x):\n",
    "        x = self.encoder(x)\n",
    "        return self.decoder(x)\n"
   ]
  },
  {
   "cell_type": "code",
   "execution_count": 9,
   "metadata": {},
   "outputs": [],
   "source": [
    "dataset = TensorDataset(X,Y)\n",
    "loader = DataLoader(dataset, batch_size=64, shuffle=True)"
   ]
  },
  {
   "cell_type": "code",
   "execution_count": 10,
   "metadata": {},
   "outputs": [],
   "source": [
    "model = Autoencoder().to(device)\n",
    "criterion = nn.MSELoss()\n",
    "optimizer = optim.SGD(model.parameters(),lr=0.1)"
   ]
  },
  {
   "cell_type": "code",
   "execution_count": 11,
   "metadata": {},
   "outputs": [
    {
     "name": "stdout",
     "output_type": "stream",
     "text": [
      "[1,    50] loss: 0.250\n",
      "[1,   100] loss: 0.249\n",
      "[1,   150] loss: 0.249\n",
      "[1,   200] loss: 0.248\n",
      "[1,   250] loss: 0.248\n",
      "[1,   300] loss: 0.247\n",
      "[1,   350] loss: 0.246\n",
      "[1,   400] loss: 0.246\n",
      "[1,   450] loss: 0.245\n",
      "[1,   500] loss: 0.245\n",
      "[1,   550] loss: 0.244\n",
      "[1,   600] loss: 0.243\n",
      "[1,   650] loss: 0.243\n",
      "[2,    50] loss: 0.242\n",
      "[2,   100] loss: 0.241\n",
      "[2,   150] loss: 0.240\n",
      "[2,   200] loss: 0.239\n",
      "[2,   250] loss: 0.238\n",
      "[2,   300] loss: 0.237\n",
      "[2,   350] loss: 0.236\n",
      "[2,   400] loss: 0.235\n",
      "[2,   450] loss: 0.233\n",
      "[2,   500] loss: 0.232\n",
      "[2,   550] loss: 0.230\n",
      "[2,   600] loss: 0.228\n",
      "[2,   650] loss: 0.226\n",
      "[3,    50] loss: 0.221\n",
      "[3,   100] loss: 0.217\n",
      "[3,   150] loss: 0.212\n",
      "[3,   200] loss: 0.206\n",
      "[3,   250] loss: 0.198\n",
      "[3,   300] loss: 0.187\n",
      "[3,   350] loss: 0.170\n",
      "[3,   400] loss: 0.146\n",
      "[3,   450] loss: 0.112\n",
      "[3,   500] loss: 0.075\n",
      "[3,   550] loss: 0.049\n",
      "[3,   600] loss: 0.036\n",
      "[3,   650] loss: 0.031\n",
      "[4,    50] loss: 0.027\n",
      "[4,   100] loss: 0.026\n",
      "[4,   150] loss: 0.026\n",
      "[4,   200] loss: 0.025\n",
      "[4,   250] loss: 0.025\n",
      "[4,   300] loss: 0.025\n",
      "[4,   350] loss: 0.025\n",
      "[4,   400] loss: 0.025\n",
      "[4,   450] loss: 0.025\n",
      "[4,   500] loss: 0.024\n",
      "[4,   550] loss: 0.025\n",
      "[4,   600] loss: 0.024\n",
      "[4,   650] loss: 0.024\n",
      "[5,    50] loss: 0.024\n",
      "[5,   100] loss: 0.024\n",
      "[5,   150] loss: 0.024\n",
      "[5,   200] loss: 0.024\n",
      "[5,   250] loss: 0.024\n",
      "[5,   300] loss: 0.024\n",
      "[5,   350] loss: 0.024\n",
      "[5,   400] loss: 0.024\n",
      "[5,   450] loss: 0.024\n",
      "[5,   500] loss: 0.024\n",
      "[5,   550] loss: 0.024\n",
      "[5,   600] loss: 0.024\n",
      "[5,   650] loss: 0.024\n",
      "[6,    50] loss: 0.024\n",
      "[6,   100] loss: 0.024\n",
      "[6,   150] loss: 0.024\n",
      "[6,   200] loss: 0.024\n",
      "[6,   250] loss: 0.024\n",
      "[6,   300] loss: 0.024\n",
      "[6,   350] loss: 0.024\n",
      "[6,   400] loss: 0.024\n",
      "[6,   450] loss: 0.024\n",
      "[6,   500] loss: 0.024\n",
      "[6,   550] loss: 0.024\n",
      "[6,   600] loss: 0.024\n",
      "[6,   650] loss: 0.024\n",
      "[7,    50] loss: 0.024\n",
      "[7,   100] loss: 0.024\n",
      "[7,   150] loss: 0.024\n",
      "[7,   200] loss: 0.024\n",
      "[7,   250] loss: 0.024\n",
      "[7,   300] loss: 0.024\n",
      "[7,   350] loss: 0.024\n",
      "[7,   400] loss: 0.024\n",
      "[7,   450] loss: 0.024\n",
      "[7,   500] loss: 0.024\n",
      "[7,   550] loss: 0.024\n",
      "[7,   600] loss: 0.024\n",
      "[7,   650] loss: 0.024\n",
      "[8,    50] loss: 0.024\n",
      "[8,   100] loss: 0.024\n",
      "[8,   150] loss: 0.024\n",
      "[8,   200] loss: 0.024\n",
      "[8,   250] loss: 0.024\n",
      "[8,   300] loss: 0.024\n",
      "[8,   350] loss: 0.024\n",
      "[8,   400] loss: 0.024\n",
      "[8,   450] loss: 0.024\n",
      "[8,   500] loss: 0.024\n",
      "[8,   550] loss: 0.023\n",
      "[8,   600] loss: 0.024\n",
      "[8,   650] loss: 0.023\n",
      "[9,    50] loss: 0.024\n",
      "[9,   100] loss: 0.023\n",
      "[9,   150] loss: 0.023\n",
      "[9,   200] loss: 0.024\n",
      "[9,   250] loss: 0.024\n",
      "[9,   300] loss: 0.023\n",
      "[9,   350] loss: 0.024\n",
      "[9,   400] loss: 0.023\n",
      "[9,   450] loss: 0.023\n",
      "[9,   500] loss: 0.023\n",
      "[9,   550] loss: 0.023\n",
      "[9,   600] loss: 0.024\n",
      "[9,   650] loss: 0.023\n",
      "[10,    50] loss: 0.023\n",
      "[10,   100] loss: 0.023\n",
      "[10,   150] loss: 0.023\n",
      "[10,   200] loss: 0.023\n",
      "[10,   250] loss: 0.023\n",
      "[10,   300] loss: 0.023\n",
      "[10,   350] loss: 0.023\n",
      "[10,   400] loss: 0.023\n",
      "[10,   450] loss: 0.023\n",
      "[10,   500] loss: 0.023\n",
      "[10,   550] loss: 0.023\n",
      "[10,   600] loss: 0.023\n",
      "[10,   650] loss: 0.023\n",
      "finished_training\n"
     ]
    }
   ],
   "source": [
    "epochs = 10\n",
    "outputs = []\n",
    "losses = []\n",
    "\n",
    "for epoch in range(epochs):\n",
    "    running_loss = 0\n",
    "    for batch, (x, _) in enumerate(loader):\n",
    "        out = model(x)\n",
    "        if batch == 0: outputs.append((x[0],out[0]))\n",
    "        loss = criterion(out,x)\n",
    "        optimizer.zero_grad()\n",
    "        loss.backward()\n",
    "        optimizer.step()\n",
    "\n",
    "        running_loss += loss.item()\n",
    "\n",
    "        if batch % (num_games//10) == (num_games//10) - 1:\n",
    "            print(f'[{epoch + 1}, {batch + 1:5d}] loss: {running_loss / (num_games//10):.3f}')\n",
    "            running_loss = 0.0\n",
    "    losses.append(running_loss)\n",
    "print('finished_training')"
   ]
  },
  {
   "cell_type": "code",
   "execution_count": 12,
   "metadata": {},
   "outputs": [
    {
     "data": {
      "image/png": "[encoded data removed]",
      "text/plain": [
       "<Figure size 432x288 with 1 Axes>"
      ]
     },
     "metadata": {
      "needs_background": "light"
     },
     "output_type": "display_data"
    }
   ],
   "source": [
    "view_matrix(outputs[9][0]) "
   ]
  },
  {
   "cell_type": "code",
   "execution_count": 13,
   "metadata": {},
   "outputs": [
    {
     "data": {
      "image/png": "[encoded data removed]",
      "text/plain": [
       "<Figure size 432x288 with 1 Axes>"
      ]
     },
     "metadata": {
      "needs_background": "light"
     },
     "output_type": "display_data"
    }
   ],
   "source": [
    "view_matrix(outputs[9][1])"
   ]
  },
  {
   "cell_type": "code",
   "execution_count": 14,
   "metadata": {},
   "outputs": [],
   "source": [
    "e1 = model.encoder\n",
    "e2 = model.encoder"
   ]
  },
  {
   "cell_type": "code",
   "execution_count": 15,
   "metadata": {},
   "outputs": [
    {
     "data": {
      "text/plain": [
       "torch.Size([200])"
      ]
     },
     "execution_count": 15,
     "metadata": {},
     "output_type": "execute_result"
    }
   ],
   "source": [
    "a, b = X[0], X[1]\n",
    "a, b = e1(a), e2(b)\n",
    "r = torch.cat((a,b),dim=0)\n",
    "r.shape"
   ]
  },
  {
   "cell_type": "code",
   "execution_count": 68,
   "metadata": {},
   "outputs": [],
   "source": [
    "class DeepChess(nn.Module):\n",
    "    def __init__(self):\n",
    "        super().__init__()\n",
    "        self.e1 = model.encoder.share_memory()\n",
    "        self.e2 = model.encoder.share_memory()\n",
    "        self.fc1 = nn.Linear(200,100)\n",
    "        self.fc2 = nn.Linear(100,100)\n",
    "        self.fc3 = nn.Linear(100,2)\n",
    "\n",
    "    def forward(self, x1, x2):\n",
    "        x = torch.cat((self.e1(x1),self.e2(x2)),dim=-1)\n",
    "        x = torch.relu(self.fc1(x))\n",
    "        x = torch.relu(self.fc2(x))\n",
    "        x = self.fc3(x)\n",
    "        return x\n",
    "\n",
    "net = DeepChess().to(device) "
   ]
  },
  {
   "cell_type": "code",
   "execution_count": 69,
   "metadata": {},
   "outputs": [
    {
     "data": {
      "text/plain": [
       "tensor([-0.0765, -0.0285], device='cuda:0', grad_fn=<AddBackward0>)"
      ]
     },
     "execution_count": 69,
     "metadata": {},
     "output_type": "execute_result"
    }
   ],
   "source": [
    "net(X[0],X[1])"
   ]
  },
  {
   "cell_type": "code",
   "execution_count": 45,
   "metadata": {},
   "outputs": [],
   "source": [
    "loader1 = DataLoader(dataset,batch_size=64,shuffle=True)\n",
    "loader2 = DataLoader(dataset,batch_size=64,shuffle=True)"
   ]
  },
  {
   "cell_type": "code",
   "execution_count": 39,
   "metadata": {},
   "outputs": [
    {
     "data": {
      "text/plain": [
       "tensor(1., device='cuda:0')"
      ]
     },
     "execution_count": 39,
     "metadata": {},
     "output_type": "execute_result"
    }
   ],
   "source": [
    "Y[0]"
   ]
  },
  {
   "cell_type": "code",
   "execution_count": 40,
   "metadata": {},
   "outputs": [
    {
     "data": {
      "text/plain": [
       "tensor([5, 4, 3, 2, 1])"
      ]
     },
     "execution_count": 40,
     "metadata": {},
     "output_type": "execute_result"
    }
   ],
   "source": [
    "a = torch.tensor([1,2,3,4,5])\n",
    "torch.flip(a,dims=(0,))"
   ]
  },
  {
   "cell_type": "code",
   "execution_count": 41,
   "metadata": {},
   "outputs": [],
   "source": [
    "criterion = nn.CrossEntropyLoss()\n",
    "optimizer = optim.SGD(net.parameters(),lr=0.1)"
   ]
  },
  {
   "cell_type": "code",
   "execution_count": 70,
   "metadata": {},
   "outputs": [
    {
     "name": "stdout",
     "output_type": "stream",
     "text": [
      "torch.Size([64, 2])\n"
     ]
    },
    {
     "name": "stderr",
     "output_type": "stream",
     "text": [
      "/tmp/ipykernel_31900/1318026344.py:11: UserWarning: To copy construct from a tensor, it is recommended to use sourceTensor.clone().detach() or sourceTensor.clone().detach().requires_grad_(True), rather than torch.tensor(sourceTensor).\n",
      "  target1 = torch.tensor(torch.stack((y1,y2),dim=1))\n"
     ]
    },
    {
     "ename": "RuntimeError",
     "evalue": "one of the variables needed for gradient computation has been modified by an inplace operation: [torch.cuda.FloatTensor [100, 100]], which is output 0 of AsStridedBackward0, is at version 6794; expected version 6793 instead. Hint: enable anomaly detection to find the operation that failed to compute its gradient, with torch.autograd.set_detect_anomaly(True).",
     "output_type": "error",
     "traceback": [
      "\u001b[0;31m---------------------------------------------------------------------------\u001b[0m",
      "\u001b[0;31mRuntimeError\u001b[0m                              Traceback (most recent call last)",
      "\u001b[1;32m/home/progs/dev/Github/chess_nn/AE.ipynb Cell 20\u001b[0m in \u001b[0;36m<cell line: 4>\u001b[0;34m()\u001b[0m\n\u001b[1;32m     <a href='vscode-notebook-cell:/home/progs/dev/Github/chess_nn/AE.ipynb#X31sZmlsZQ%3D%3D?line=21'>22</a>\u001b[0m loss \u001b[39m=\u001b[39m criterion(pred2,target2)\n\u001b[1;32m     <a href='vscode-notebook-cell:/home/progs/dev/Github/chess_nn/AE.ipynb#X31sZmlsZQ%3D%3D?line=22'>23</a>\u001b[0m optimizer\u001b[39m.\u001b[39mzero_grad()\n\u001b[0;32m---> <a href='vscode-notebook-cell:/home/progs/dev/Github/chess_nn/AE.ipynb#X31sZmlsZQ%3D%3D?line=23'>24</a>\u001b[0m loss\u001b[39m.\u001b[39;49mbackward()\n\u001b[1;32m     <a href='vscode-notebook-cell:/home/progs/dev/Github/chess_nn/AE.ipynb#X31sZmlsZQ%3D%3D?line=24'>25</a>\u001b[0m optimizer\u001b[39m.\u001b[39mstep()\n\u001b[1;32m     <a href='vscode-notebook-cell:/home/progs/dev/Github/chess_nn/AE.ipynb#X31sZmlsZQ%3D%3D?line=26'>27</a>\u001b[0m running_loss \u001b[39m+\u001b[39m\u001b[39m=\u001b[39m loss\u001b[39m.\u001b[39mitem()\n",
      "File \u001b[0;32m~/.local/lib/python3.10/site-packages/torch/_tensor.py:396\u001b[0m, in \u001b[0;36mTensor.backward\u001b[0;34m(self, gradient, retain_graph, create_graph, inputs)\u001b[0m\n\u001b[1;32m    387\u001b[0m \u001b[39mif\u001b[39;00m has_torch_function_unary(\u001b[39mself\u001b[39m):\n\u001b[1;32m    388\u001b[0m     \u001b[39mreturn\u001b[39;00m handle_torch_function(\n\u001b[1;32m    389\u001b[0m         Tensor\u001b[39m.\u001b[39mbackward,\n\u001b[1;32m    390\u001b[0m         (\u001b[39mself\u001b[39m,),\n\u001b[0;32m   (...)\u001b[0m\n\u001b[1;32m    394\u001b[0m         create_graph\u001b[39m=\u001b[39mcreate_graph,\n\u001b[1;32m    395\u001b[0m         inputs\u001b[39m=\u001b[39minputs)\n\u001b[0;32m--> 396\u001b[0m torch\u001b[39m.\u001b[39;49mautograd\u001b[39m.\u001b[39;49mbackward(\u001b[39mself\u001b[39;49m, gradient, retain_graph, create_graph, inputs\u001b[39m=\u001b[39;49minputs)\n",
      "File \u001b[0;32m~/.local/lib/python3.10/site-packages/torch/autograd/__init__.py:173\u001b[0m, in \u001b[0;36mbackward\u001b[0;34m(tensors, grad_tensors, retain_graph, create_graph, grad_variables, inputs)\u001b[0m\n\u001b[1;32m    168\u001b[0m     retain_graph \u001b[39m=\u001b[39m create_graph\n\u001b[1;32m    170\u001b[0m \u001b[39m# The reason we repeat same the comment below is that\u001b[39;00m\n\u001b[1;32m    171\u001b[0m \u001b[39m# some Python versions print out the first line of a multi-line function\u001b[39;00m\n\u001b[1;32m    172\u001b[0m \u001b[39m# calls in the traceback and some print out the last line\u001b[39;00m\n\u001b[0;32m--> 173\u001b[0m Variable\u001b[39m.\u001b[39;49m_execution_engine\u001b[39m.\u001b[39;49mrun_backward(  \u001b[39m# Calls into the C++ engine to run the backward pass\u001b[39;49;00m\n\u001b[1;32m    174\u001b[0m     tensors, grad_tensors_, retain_graph, create_graph, inputs,\n\u001b[1;32m    175\u001b[0m     allow_unreachable\u001b[39m=\u001b[39;49m\u001b[39mTrue\u001b[39;49;00m, accumulate_grad\u001b[39m=\u001b[39;49m\u001b[39mTrue\u001b[39;49;00m)\n",
      "\u001b[0;31mRuntimeError\u001b[0m: one of the variables needed for gradient computation has been modified by an inplace operation: [torch.cuda.FloatTensor [100, 100]], which is output 0 of AsStridedBackward0, is at version 6794; expected version 6793 instead. Hint: enable anomaly detection to find the operation that failed to compute its gradient, with torch.autograd.set_detect_anomaly(True)."
     ]
    }
   ],
   "source": [
    "epochs = 20\n",
    "losses = []\n",
    "\n",
    "for epoch in range(epochs):\n",
    "    running_loss = 0\n",
    "    for batch, (data1, data2) in enumerate(zip(loader1,loader2)):\n",
    "        x1, y1 = data1\n",
    "        x2, y2 = data2\n",
    "        pred1 = net(x1,x2)\n",
    "        pred2 = net(x2,x1)\n",
    "        target1 = torch.tensor(torch.stack((y1,y2),dim=1))\n",
    "        print(target1.shape)\n",
    "        target2 = torch.flip(target1,dims=(0,))\n",
    "\n",
    "        loss = criterion(pred1,target1)\n",
    "        optimizer.zero_grad()\n",
    "        loss.backward()\n",
    "        optimizer.step()\n",
    "\n",
    "        running_loss += loss.item()\n",
    "        \n",
    "        loss = criterion(pred2,target2)\n",
    "        optimizer.zero_grad()\n",
    "        loss.backward()\n",
    "        optimizer.step()\n",
    "\n",
    "        running_loss += loss.item()\n",
    "\n",
    "        if batch % (num_games//10) == (num_games//10) - 1:\n",
    "            print(f'[{epoch + 1}, {batch + 1:5d}] loss: {running_loss / (num_games//10):.3f}')\n",
    "            running_loss = 0.0\n",
    "    \n",
    "    losses.append(running_loss)\n",
    "\n",
    "print('finished_training')\n"
   ]
  }
 ],
 "metadata": {
  "kernelspec": {
   "display_name": "Python 3.10.8 64-bit",
   "language": "python",
   "name": "python3"
  },
  "language_info": {
   "codemirror_mode": {
    "name": "ipython",
    "version": 3
   },
   "file_extension": ".py",
   "mimetype": "text/x-python",
   "name": "python",
   "nbconvert_exporter": "python",
   "pygments_lexer": "ipython3",
   "version": "3.10.8"
  },
  "orig_nbformat": 4,
  "vscode": {
   "interpreter": {
    "hash": "e7370f93d1d0cde622a1f8e1c04877d8463912d04d973331ad4851f04de6915a"
   }
  }
 },
 "nbformat": 4,
 "nbformat_minor": 2
}
